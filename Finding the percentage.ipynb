{
 "cells": [
  {
   "cell_type": "markdown",
   "metadata": {},
   "source": [
    "https://www.hackerrank.com/challenges/finding-the-percentage/problem?isFullScreen=true"
   ]
  },
  {
   "cell_type": "code",
   "execution_count": 50,
   "metadata": {},
   "outputs": [
    {
     "name": "stdout",
     "output_type": "stream",
     "text": [
      "number:2\n",
      "number score:3\n",
      "name:ahmed\n",
      "score:1\n",
      "score:2\n",
      "score:3\n",
      "name:mohammed\n",
      "score:5\n",
      "score:6\n",
      "score:7\n",
      "choose name: mohammed\n",
      "6.0\n"
     ]
    }
   ],
   "source": [
    "number = int(input('number:'))\n",
    "number_score = int(input('number score:'))\n",
    "ls = []\n",
    "names = set()\n",
    "for i in range(number):\n",
    "    name = input('name:')\n",
    "    for j in range(number_score):\n",
    "        score = int(input('score:'))\n",
    "        ls.append([name,score])\n",
    "\n",
    "l = []\n",
    "avg = 0\n",
    "perc = 0\n",
    "choose_name = input('choose name: ')\n",
    "for name, score in ls:\n",
    "    names.add(name)\n",
    "    if name == choose_name:\n",
    "        l.append(score)\n",
    "        \n",
    "for s in l:\n",
    "    avg += s\n",
    "    perc = avg/len(l)\n",
    "\n",
    "print(perc)"
   ]
  },
  {
   "cell_type": "code",
   "execution_count": null,
   "metadata": {},
   "outputs": [],
   "source": [
    "3"
   ]
  }
 ],
 "metadata": {
  "kernelspec": {
   "display_name": "Python 3",
   "language": "python",
   "name": "python3"
  },
  "language_info": {
   "codemirror_mode": {
    "name": "ipython",
    "version": 3
   },
   "file_extension": ".py",
   "mimetype": "text/x-python",
   "name": "python",
   "nbconvert_exporter": "python",
   "pygments_lexer": "ipython3",
   "version": "3.8.5"
  }
 },
 "nbformat": 4,
 "nbformat_minor": 4
}
